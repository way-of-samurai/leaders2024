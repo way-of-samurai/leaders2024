{
 "cells": [
  {
   "cell_type": "code",
   "execution_count": 19,
   "metadata": {},
   "outputs": [],
   "source": [
    "import os\n",
    "import random\n",
    "from PIL import Image, ImageOps\n",
    "\n",
    "def concat_images(image_paths, size, shape=None):\n",
    "  # Open images and resize them\n",
    "  width, height = size\n",
    "  images = [Image.open(image_path) for image_path in image_paths]\n",
    "  # images = [ImageOps.fit(image, size, Image.LANCZOS)\n",
    "  #           for image in images]\n",
    "\n",
    "  # Create canvas for the final image with total size\n",
    "  shape = shape if shape else (1, len(images))\n",
    "  image_size = (width * shape[1], height * shape[0])\n",
    "  image = Image.new(\"RGBA\", image_size, color=\"WHITE\")\n",
    "\n",
    "  # Paste images into final image\n",
    "  for row in range(shape[0]):\n",
    "    for col in range(shape[1]):\n",
    "      offset = width * col, height * row\n",
    "      idx = row * shape[1] + col\n",
    "      image.paste(images[idx], offset)\n",
    "\n",
    "  return image\n",
    "\n",
    "# Get list of image paths\n",
    "folder = \"./images/single\"\n",
    "image_paths = [os.path.join(folder, f)\n",
    "               for f in os.listdir(folder) if f.endswith('.png')]\n",
    "\n",
    "# Random selection of images\n",
    "# image_array = random.choices(image_paths, k=8)\n",
    "\n",
    "# Create and save image grid\n",
    "image = concat_images(image_paths, (240, 240), (7, 6))\n",
    "image.save(\"image.png\", \"PNG\")"
   ]
  }
 ],
 "metadata": {
  "kernelspec": {
   "display_name": ".venv",
   "language": "python",
   "name": "python3"
  },
  "language_info": {
   "codemirror_mode": {
    "name": "ipython",
    "version": 3
   },
   "file_extension": ".py",
   "mimetype": "text/x-python",
   "name": "python",
   "nbconvert_exporter": "python",
   "pygments_lexer": "ipython3",
   "version": "3.12.3"
  }
 },
 "nbformat": 4,
 "nbformat_minor": 2
}
